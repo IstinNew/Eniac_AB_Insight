{
 "cells": [
  {
   "cell_type": "markdown",
   "metadata": {},
   "source": [
    "## Eniac A/B Insight\n",
    "### 1. Objective\n",
    "Dive into a comprehensive analysis aimed at boosting iPhone 13 sales by optimizing the Click-Through Rate (CTR) of the “SHOP NOW” button, compare different button designs and determine the most effective strategy for increasing engagement.\n",
    "\n"
   ]
  },
  {
   "cell_type": "markdown",
   "metadata": {},
   "source": [
    "### 2. Hypotheses\n",
    "### Null Hypothesis (H₀)\n",
    "There is no difference in the Click-Through Rate (CTR) between the current “SHOP NOW” button and the variants (A, B, C, and D).\n",
    "\n",
    "### Alternative Hypothesis (H₁)\n",
    "There is a difference in the Click-Through Rate (CTR) between the current “SHOP NOW” button and at least one of the variants (A, B, C, or D).\n"
   ]
  },
  {
   "cell_type": "markdown",
   "metadata": {},
   "source": [
    "###  3. Metric for Evaluation\n",
    "#####\n",
    "The primary metric for evaluating the success of a variant is the Click-Through Rate (CTR) of the “SHOP NOW” button. \n",
    "\n",
    "Additional metrics would also include:\n",
    "- Conversion Rate (CR)\n",
    "- Bounce Rate\n",
    "- Average Order Value (AOV)\n",
    "- Time on Page\n",
    "- User Feedback"
   ]
  },
  {
   "cell_type": "markdown",
   "metadata": {},
   "source": [
    "### 4. Experiment Parameters\n",
    "\n",
    "##### Test Parameters\n",
    "- **Significance Level (α)**: 0.05\n",
    "- **Minimum Detectable Effect (MDE)**: 0.5% absolute increase in CTR\n",
    "- **Sample Size**: Determined based on power analysis to ensure statistical significance\n"
   ]
  },
  {
   "cell_type": "markdown",
   "metadata": {},
   "source": [
    "### 5. Data Period\n",
    "#### The data collection period for the experiment spans from 02 November 2021 to 16 November 2021, covering a comprehensive timeframe to capture sufficient user interactions and ensure reliable results."
   ]
  },
  {
   "cell_type": "markdown",
   "metadata": {},
   "source": [
    "### 6. Code Along\n",
    "##### 1. CTR: click-through rate (CTR) for each button version.\n",
    "##### 2. Clicks and No-Clicks Table\n",
    "##### 3. Chi-square test to check for statistical significance.\n",
    "##### 4. Version with the highest CTR.\n",
    "##### 5. Metrics Plot\n"
   ]
  },
  {
   "cell_type": "code",
   "execution_count": 50,
   "metadata": {},
   "outputs": [],
   "source": [
    "# Global Configuration\n",
    "# Import necessary libraries\n",
    "import pandas as pd\n",
    "import numpy as np\n",
    "import matplotlib.pyplot as plt\n",
    "import seaborn as sns\n",
    "import scipy.stats \n",
    "from scipy.stats import chi2_contingency\n",
    "from scipy.stats import chi2\n",
    "from scipy.stats import stats\n",
    "\n",
    "import warnings\n",
    "warnings.filterwarnings('ignore')\n",
    "\n",
    "# Set global configuration for plots\n",
    "plt.style.use('ggplot')\n",
    "sns.set(style='whitegrid')"
   ]
  },
  {
   "cell_type": "code",
   "execution_count": null,
   "metadata": {},
   "outputs": [],
   "source": [
    "# Define local dataread file paths\n",
    "eniac_a_file = 'D:/WBS Coding/Bootcamp/Python/Pandas/4-AB Testing/Project Work/Datasets/eniac_a.csv'\n",
    "eniac_b_file = 'D:/WBS Coding/Bootcamp/Python/Pandas/4-AB Testing/Project Work/Datasets/eniac_b.csv'\n",
    "eniac_c_file = 'D:/WBS Coding/Bootcamp/Python/Pandas/4-AB Testing/Project Work/Datasets/eniac_c.csv'\n",
    "eniac_d_file = 'D:/WBS Coding/Bootcamp/Python/Pandas/4-AB Testing/Project Work/Datasets/eniac_d.csv'\n",
    "\n",
    "# Replace the above file paths with the local file paths on your machine or Google drive paths as may be applicable\n"
   ]
  },
  {
   "cell_type": "code",
   "execution_count": 4,
   "metadata": {},
   "outputs": [],
   "source": [
    "# Load data into pandas DataFrames\n",
    "df_a = pd.read_csv(eniac_a_file)\n",
    "df_b = pd.read_csv(eniac_b_file)\n",
    "df_c = pd.read_csv(eniac_c_file)\n",
    "df_d = pd.read_csv(eniac_d_file)\n"
   ]
  },
  {
   "cell_type": "code",
   "execution_count": null,
   "metadata": {},
   "outputs": [],
   "source": [
    "# Set display options\n",
    "pd.set_option('display.max_columns', None) \n",
    "pd.set_option('display.max_colwidth', None) \n",
    "pd.set_option('display.width', 1000)  "
   ]
  },
  {
   "cell_type": "code",
   "execution_count": 9,
   "metadata": {},
   "outputs": [
    {
     "data": {
      "text/html": [
       "<div>\n",
       "<style scoped>\n",
       "    .dataframe tbody tr th:only-of-type {\n",
       "        vertical-align: middle;\n",
       "    }\n",
       "\n",
       "    .dataframe tbody tr th {\n",
       "        vertical-align: top;\n",
       "    }\n",
       "\n",
       "    .dataframe thead th {\n",
       "        text-align: right;\n",
       "    }\n",
       "</style>\n",
       "<table border=\"1\" class=\"dataframe\">\n",
       "  <thead>\n",
       "    <tr style=\"text-align: right;\">\n",
       "      <th></th>\n",
       "      <th>Element ID</th>\n",
       "      <th>Tag name</th>\n",
       "      <th>Name</th>\n",
       "      <th>No. clicks</th>\n",
       "      <th>Visible?</th>\n",
       "      <th>Snapshot information</th>\n",
       "    </tr>\n",
       "  </thead>\n",
       "  <tbody>\n",
       "    <tr>\n",
       "      <th>0</th>\n",
       "      <td>48</td>\n",
       "      <td>h1</td>\n",
       "      <td>ENIAC</td>\n",
       "      <td>269</td>\n",
       "      <td>True</td>\n",
       "      <td>Homepage Version A - white SHOP NOW   •   https://eniac.com/index-a.php</td>\n",
       "    </tr>\n",
       "    <tr>\n",
       "      <th>1</th>\n",
       "      <td>25</td>\n",
       "      <td>div</td>\n",
       "      <td>mySidebar</td>\n",
       "      <td>309</td>\n",
       "      <td>True</td>\n",
       "      <td>created 2021-09-14   •   14 days 0 hours 34 mins   •   25326 visits, 23174 clicks</td>\n",
       "    </tr>\n",
       "    <tr>\n",
       "      <th>2</th>\n",
       "      <td>4</td>\n",
       "      <td>a</td>\n",
       "      <td>Mac</td>\n",
       "      <td>279</td>\n",
       "      <td>True</td>\n",
       "      <td>NaN</td>\n",
       "    </tr>\n",
       "    <tr>\n",
       "      <th>3</th>\n",
       "      <td>69</td>\n",
       "      <td>a</td>\n",
       "      <td>iPhone</td>\n",
       "      <td>246</td>\n",
       "      <td>True</td>\n",
       "      <td>NaN</td>\n",
       "    </tr>\n",
       "    <tr>\n",
       "      <th>4</th>\n",
       "      <td>105</td>\n",
       "      <td>a</td>\n",
       "      <td>Accessories</td>\n",
       "      <td>1235</td>\n",
       "      <td>True</td>\n",
       "      <td>NaN</td>\n",
       "    </tr>\n",
       "  </tbody>\n",
       "</table>\n",
       "</div>"
      ],
      "text/plain": [
       "   Element ID Tag name         Name  No. clicks  Visible?                                                               Snapshot information\n",
       "0          48       h1        ENIAC         269      True            Homepage Version A - white SHOP NOW   •   https://eniac.com/index-a.php\n",
       "1          25      div    mySidebar         309      True  created 2021-09-14   •   14 days 0 hours 34 mins   •   25326 visits, 23174 clicks\n",
       "2           4        a          Mac         279      True                                                                                NaN\n",
       "3          69        a       iPhone         246      True                                                                                NaN\n",
       "4         105        a  Accessories        1235      True                                                                                NaN"
      ]
     },
     "execution_count": 9,
     "metadata": {},
     "output_type": "execute_result"
    }
   ],
   "source": [
    "# Explore Dataset A\n",
    "\n",
    "df_a.head()\n"
   ]
  },
  {
   "cell_type": "code",
   "execution_count": 10,
   "metadata": {},
   "outputs": [
    {
     "data": {
      "text/html": [
       "<div>\n",
       "<style scoped>\n",
       "    .dataframe tbody tr th:only-of-type {\n",
       "        vertical-align: middle;\n",
       "    }\n",
       "\n",
       "    .dataframe tbody tr th {\n",
       "        vertical-align: top;\n",
       "    }\n",
       "\n",
       "    .dataframe thead th {\n",
       "        text-align: right;\n",
       "    }\n",
       "</style>\n",
       "<table border=\"1\" class=\"dataframe\">\n",
       "  <thead>\n",
       "    <tr style=\"text-align: right;\">\n",
       "      <th></th>\n",
       "      <th>Element ID</th>\n",
       "      <th>Tag name</th>\n",
       "      <th>Name</th>\n",
       "      <th>No. clicks</th>\n",
       "      <th>Visible?</th>\n",
       "      <th>Snapshot information</th>\n",
       "    </tr>\n",
       "  </thead>\n",
       "  <tbody>\n",
       "    <tr>\n",
       "      <th>0</th>\n",
       "      <td>48</td>\n",
       "      <td>h1</td>\n",
       "      <td>ENIAC</td>\n",
       "      <td>236</td>\n",
       "      <td>True</td>\n",
       "      <td>Homepage Version B - red SHOP NOW   •   https://eniac.com/index-b.php</td>\n",
       "    </tr>\n",
       "    <tr>\n",
       "      <th>1</th>\n",
       "      <td>25</td>\n",
       "      <td>div</td>\n",
       "      <td>mySidebar</td>\n",
       "      <td>304</td>\n",
       "      <td>True</td>\n",
       "      <td>created 2021-10-27   •   14 days 0 hours 34 mins   •   24747 visits, 22592 clicks</td>\n",
       "    </tr>\n",
       "    <tr>\n",
       "      <th>2</th>\n",
       "      <td>4</td>\n",
       "      <td>a</td>\n",
       "      <td>Mac</td>\n",
       "      <td>268</td>\n",
       "      <td>True</td>\n",
       "      <td>NaN</td>\n",
       "    </tr>\n",
       "    <tr>\n",
       "      <th>3</th>\n",
       "      <td>69</td>\n",
       "      <td>a</td>\n",
       "      <td>iPhone</td>\n",
       "      <td>260</td>\n",
       "      <td>True</td>\n",
       "      <td>NaN</td>\n",
       "    </tr>\n",
       "    <tr>\n",
       "      <th>4</th>\n",
       "      <td>105</td>\n",
       "      <td>a</td>\n",
       "      <td>Accessories</td>\n",
       "      <td>1214</td>\n",
       "      <td>True</td>\n",
       "      <td>NaN</td>\n",
       "    </tr>\n",
       "  </tbody>\n",
       "</table>\n",
       "</div>"
      ],
      "text/plain": [
       "   Element ID Tag name         Name  No. clicks  Visible?                                                               Snapshot information\n",
       "0          48       h1        ENIAC         236      True              Homepage Version B - red SHOP NOW   •   https://eniac.com/index-b.php\n",
       "1          25      div    mySidebar         304      True  created 2021-10-27   •   14 days 0 hours 34 mins   •   24747 visits, 22592 clicks\n",
       "2           4        a          Mac         268      True                                                                                NaN\n",
       "3          69        a       iPhone         260      True                                                                                NaN\n",
       "4         105        a  Accessories        1214      True                                                                                NaN"
      ]
     },
     "execution_count": 10,
     "metadata": {},
     "output_type": "execute_result"
    }
   ],
   "source": [
    "# Explore Dataset B\n",
    "\n",
    "df_b.head()"
   ]
  },
  {
   "cell_type": "code",
   "execution_count": 11,
   "metadata": {},
   "outputs": [
    {
     "data": {
      "text/html": [
       "<div>\n",
       "<style scoped>\n",
       "    .dataframe tbody tr th:only-of-type {\n",
       "        vertical-align: middle;\n",
       "    }\n",
       "\n",
       "    .dataframe tbody tr th {\n",
       "        vertical-align: top;\n",
       "    }\n",
       "\n",
       "    .dataframe thead th {\n",
       "        text-align: right;\n",
       "    }\n",
       "</style>\n",
       "<table border=\"1\" class=\"dataframe\">\n",
       "  <thead>\n",
       "    <tr style=\"text-align: right;\">\n",
       "      <th></th>\n",
       "      <th>Element ID</th>\n",
       "      <th>Tag name</th>\n",
       "      <th>Name</th>\n",
       "      <th>No. clicks</th>\n",
       "      <th>Visible?</th>\n",
       "      <th>Snapshot information</th>\n",
       "    </tr>\n",
       "  </thead>\n",
       "  <tbody>\n",
       "    <tr>\n",
       "      <th>0</th>\n",
       "      <td>48</td>\n",
       "      <td>h1</td>\n",
       "      <td>ENIAC</td>\n",
       "      <td>288</td>\n",
       "      <td>True</td>\n",
       "      <td>Homepage Version C - white SEE DEALS   •   https://eniac.com/index-c.php</td>\n",
       "    </tr>\n",
       "    <tr>\n",
       "      <th>1</th>\n",
       "      <td>25</td>\n",
       "      <td>div</td>\n",
       "      <td>mySidebar</td>\n",
       "      <td>283</td>\n",
       "      <td>True</td>\n",
       "      <td>created 2021-10-27   •   14 days 0 hours 34 mins   •   24876 visits, 23031 clicks</td>\n",
       "    </tr>\n",
       "    <tr>\n",
       "      <th>2</th>\n",
       "      <td>4</td>\n",
       "      <td>a</td>\n",
       "      <td>Mac</td>\n",
       "      <td>262</td>\n",
       "      <td>True</td>\n",
       "      <td>NaN</td>\n",
       "    </tr>\n",
       "    <tr>\n",
       "      <th>3</th>\n",
       "      <td>69</td>\n",
       "      <td>a</td>\n",
       "      <td>iPhone</td>\n",
       "      <td>234</td>\n",
       "      <td>True</td>\n",
       "      <td>NaN</td>\n",
       "    </tr>\n",
       "    <tr>\n",
       "      <th>4</th>\n",
       "      <td>105</td>\n",
       "      <td>a</td>\n",
       "      <td>Accessories</td>\n",
       "      <td>1288</td>\n",
       "      <td>True</td>\n",
       "      <td>NaN</td>\n",
       "    </tr>\n",
       "  </tbody>\n",
       "</table>\n",
       "</div>"
      ],
      "text/plain": [
       "   Element ID Tag name         Name  No. clicks  Visible?                                                               Snapshot information\n",
       "0          48       h1        ENIAC         288      True           Homepage Version C - white SEE DEALS   •   https://eniac.com/index-c.php\n",
       "1          25      div    mySidebar         283      True  created 2021-10-27   •   14 days 0 hours 34 mins   •   24876 visits, 23031 clicks\n",
       "2           4        a          Mac         262      True                                                                                NaN\n",
       "3          69        a       iPhone         234      True                                                                                NaN\n",
       "4         105        a  Accessories        1288      True                                                                                NaN"
      ]
     },
     "execution_count": 11,
     "metadata": {},
     "output_type": "execute_result"
    }
   ],
   "source": [
    "# Explore Dataset C\n",
    "\n",
    "df_c.head()"
   ]
  },
  {
   "cell_type": "code",
   "execution_count": 12,
   "metadata": {},
   "outputs": [
    {
     "data": {
      "text/html": [
       "<div>\n",
       "<style scoped>\n",
       "    .dataframe tbody tr th:only-of-type {\n",
       "        vertical-align: middle;\n",
       "    }\n",
       "\n",
       "    .dataframe tbody tr th {\n",
       "        vertical-align: top;\n",
       "    }\n",
       "\n",
       "    .dataframe thead th {\n",
       "        text-align: right;\n",
       "    }\n",
       "</style>\n",
       "<table border=\"1\" class=\"dataframe\">\n",
       "  <thead>\n",
       "    <tr style=\"text-align: right;\">\n",
       "      <th></th>\n",
       "      <th>Element ID</th>\n",
       "      <th>Tag name</th>\n",
       "      <th>Name</th>\n",
       "      <th>No. clicks</th>\n",
       "      <th>Visible?</th>\n",
       "      <th>Snapshot information</th>\n",
       "    </tr>\n",
       "  </thead>\n",
       "  <tbody>\n",
       "    <tr>\n",
       "      <th>0</th>\n",
       "      <td>48</td>\n",
       "      <td>h1</td>\n",
       "      <td>ENIAC</td>\n",
       "      <td>285</td>\n",
       "      <td>True</td>\n",
       "      <td>Homepage Version D - red SEE DEALS   •   https://eniac.com/index-d.php</td>\n",
       "    </tr>\n",
       "    <tr>\n",
       "      <th>1</th>\n",
       "      <td>25</td>\n",
       "      <td>div</td>\n",
       "      <td>mySidebar</td>\n",
       "      <td>305</td>\n",
       "      <td>True</td>\n",
       "      <td>created 2021-10-27   •   14 days 0 hours 34 mins   •   25233 visits, 23062 clicks</td>\n",
       "    </tr>\n",
       "    <tr>\n",
       "      <th>2</th>\n",
       "      <td>4</td>\n",
       "      <td>a</td>\n",
       "      <td>Mac</td>\n",
       "      <td>274</td>\n",
       "      <td>True</td>\n",
       "      <td>NaN</td>\n",
       "    </tr>\n",
       "    <tr>\n",
       "      <th>3</th>\n",
       "      <td>69</td>\n",
       "      <td>a</td>\n",
       "      <td>iPhone</td>\n",
       "      <td>243</td>\n",
       "      <td>True</td>\n",
       "      <td>NaN</td>\n",
       "    </tr>\n",
       "    <tr>\n",
       "      <th>4</th>\n",
       "      <td>105</td>\n",
       "      <td>a</td>\n",
       "      <td>Accessories</td>\n",
       "      <td>1267</td>\n",
       "      <td>True</td>\n",
       "      <td>NaN</td>\n",
       "    </tr>\n",
       "  </tbody>\n",
       "</table>\n",
       "</div>"
      ],
      "text/plain": [
       "   Element ID Tag name         Name  No. clicks  Visible?                                                               Snapshot information\n",
       "0          48       h1        ENIAC         285      True             Homepage Version D - red SEE DEALS   •   https://eniac.com/index-d.php\n",
       "1          25      div    mySidebar         305      True  created 2021-10-27   •   14 days 0 hours 34 mins   •   25233 visits, 23062 clicks\n",
       "2           4        a          Mac         274      True                                                                                NaN\n",
       "3          69        a       iPhone         243      True                                                                                NaN\n",
       "4         105        a  Accessories        1267      True                                                                                NaN"
      ]
     },
     "execution_count": 12,
     "metadata": {},
     "output_type": "execute_result"
    }
   ],
   "source": [
    "# Explore Dataset D\n",
    "\n",
    "df_d.head()"
   ]
  },
  {
   "cell_type": "code",
   "execution_count": 13,
   "metadata": {},
   "outputs": [
    {
     "name": "stdout",
     "output_type": "stream",
     "text": [
      "<class 'pandas.core.frame.DataFrame'>\n",
      "RangeIndex: 57 entries, 0 to 56\n",
      "Data columns (total 6 columns):\n",
      " #   Column                Non-Null Count  Dtype \n",
      "---  ------                --------------  ----- \n",
      " 0   Element ID            57 non-null     int64 \n",
      " 1   Tag name              57 non-null     object\n",
      " 2   Name                  57 non-null     object\n",
      " 3   No. clicks            57 non-null     int64 \n",
      " 4   Visible?              57 non-null     bool  \n",
      " 5   Snapshot information  2 non-null      object\n",
      "dtypes: bool(1), int64(2), object(3)\n",
      "memory usage: 2.4+ KB\n"
     ]
    }
   ],
   "source": [
    "# Dataset Summary (check for missing values in dataset A)\n",
    "df_a.info()"
   ]
  },
  {
   "cell_type": "code",
   "execution_count": 14,
   "metadata": {},
   "outputs": [
    {
     "name": "stdout",
     "output_type": "stream",
     "text": [
      "<class 'pandas.core.frame.DataFrame'>\n",
      "RangeIndex: 57 entries, 0 to 56\n",
      "Data columns (total 6 columns):\n",
      " #   Column                Non-Null Count  Dtype \n",
      "---  ------                --------------  ----- \n",
      " 0   Element ID            57 non-null     int64 \n",
      " 1   Tag name              57 non-null     object\n",
      " 2   Name                  57 non-null     object\n",
      " 3   No. clicks            57 non-null     int64 \n",
      " 4   Visible?              57 non-null     bool  \n",
      " 5   Snapshot information  2 non-null      object\n",
      "dtypes: bool(1), int64(2), object(3)\n",
      "memory usage: 2.4+ KB\n"
     ]
    }
   ],
   "source": [
    "# Dataset Summary (check for missing values in dataset B)\n",
    "df_b.info()"
   ]
  },
  {
   "cell_type": "code",
   "execution_count": null,
   "metadata": {},
   "outputs": [
    {
     "name": "stdout",
     "output_type": "stream",
     "text": [
      "<class 'pandas.core.frame.DataFrame'>\n",
      "RangeIndex: 57 entries, 0 to 56\n",
      "Data columns (total 6 columns):\n",
      " #   Column                Non-Null Count  Dtype \n",
      "---  ------                --------------  ----- \n",
      " 0   Element ID            57 non-null     int64 \n",
      " 1   Tag name              57 non-null     object\n",
      " 2   Name                  57 non-null     object\n",
      " 3   No. clicks            57 non-null     int64 \n",
      " 4   Visible?              57 non-null     bool  \n",
      " 5   Snapshot information  2 non-null      object\n",
      "dtypes: bool(1), int64(2), object(3)\n",
      "memory usage: 2.4+ KB\n"
     ]
    }
   ],
   "source": [
    "# Dataset Summary (check for missing values in dataset C)\n",
    "df_c.info()"
   ]
  },
  {
   "cell_type": "code",
   "execution_count": 16,
   "metadata": {},
   "outputs": [
    {
     "name": "stdout",
     "output_type": "stream",
     "text": [
      "<class 'pandas.core.frame.DataFrame'>\n",
      "RangeIndex: 57 entries, 0 to 56\n",
      "Data columns (total 6 columns):\n",
      " #   Column                Non-Null Count  Dtype \n",
      "---  ------                --------------  ----- \n",
      " 0   Element ID            57 non-null     int64 \n",
      " 1   Tag name              57 non-null     object\n",
      " 2   Name                  57 non-null     object\n",
      " 3   No. clicks            57 non-null     int64 \n",
      " 4   Visible?              57 non-null     bool  \n",
      " 5   Snapshot information  2 non-null      object\n",
      "dtypes: bool(1), int64(2), object(3)\n",
      "memory usage: 2.4+ KB\n"
     ]
    }
   ],
   "source": [
    "# Dataset Summary (check for missing values in dataset D)\n",
    "df_d.info()"
   ]
  },
  {
   "cell_type": "markdown",
   "metadata": {},
   "source": [
    "##### 6.1. CTR: click-through rate (CTR) for each button version"
   ]
  },
  {
   "cell_type": "code",
   "execution_count": 22,
   "metadata": {},
   "outputs": [],
   "source": [
    "# Extracting the number of clicks for each version\n",
    "eniac_a_CTRClicks = df_a.loc[df_a[\"Name\"]==\"SHOP NOW\", \"No. clicks\"].iloc[0]\n",
    "eniac_b_CTRClicks = df_b.loc[df_b[\"Name\"]==\"SHOP NOW\", \"No. clicks\"].iloc[0]\n",
    "eniac_c_CTRClicks = df_c.loc[df_c[\"Name\"]==\"SEE DEALS\", \"No. clicks\"].iloc[0]\n",
    "eniac_d_CTRClicks = df_d.loc[df_d[\"Name\"]==\"SEE DEALS\", \"No. clicks\"].iloc[0]"
   ]
  },
  {
   "cell_type": "code",
   "execution_count": 23,
   "metadata": {},
   "outputs": [
    {
     "data": {
      "text/plain": [
       "(np.int64(512), np.int64(281), np.int64(527), np.int64(193))"
      ]
     },
     "execution_count": 23,
     "metadata": {},
     "output_type": "execute_result"
    }
   ],
   "source": [
    "eniac_a_CTRClicks,eniac_b_CTRClicks, eniac_c_CTRClicks,eniac_d_CTRClicks"
   ]
  },
  {
   "cell_type": "markdown",
   "metadata": {},
   "source": [
    "##### 6.2. Clicks and No-Clicks Table"
   ]
  },
  {
   "cell_type": "code",
   "execution_count": 27,
   "metadata": {},
   "outputs": [],
   "source": [
    "# Visits for each version from individual datasets (manual entry)\n",
    "eniac_a_CTRvisits = 25326\n",
    "eniac_b_CTRvisits = 24747\n",
    "eniac_c_CTRvisits = 24876\n",
    "eniac_d_CTRvisits = 25233"
   ]
  },
  {
   "cell_type": "code",
   "execution_count": 28,
   "metadata": {},
   "outputs": [
    {
     "data": {
      "text/plain": [
       "(np.int64(24814), np.int64(24466), np.int64(24349), np.int64(24814))"
      ]
     },
     "execution_count": 28,
     "metadata": {},
     "output_type": "execute_result"
    }
   ],
   "source": [
    "# Calculate non-clicks\n",
    "eniac_a_CTRnon_Clicks = eniac_a_CTRvisits - eniac_a_CTRClicks\n",
    "eniac_b_CTRnon_Clicks = eniac_b_CTRvisits - eniac_b_CTRClicks\n",
    "eniac_c_CTRnon_Clicks = eniac_c_CTRvisits - eniac_c_CTRClicks\n",
    "eniac_d_CTRnon_Clicks = eniac_d_CTRvisits - eniac_d_CTRClicks\n",
    "\n",
    "eniac_a_CTRnon_Clicks, eniac_b_CTRnon_Clicks, eniac_c_CTRnon_Clicks,eniac_a_CTRnon_Clicks"
   ]
  },
  {
   "cell_type": "code",
   "execution_count": 34,
   "metadata": {},
   "outputs": [
    {
     "name": "stdout",
     "output_type": "stream",
     "text": [
      "Observed Results:\n"
     ]
    },
    {
     "data": {
      "text/html": [
       "<div>\n",
       "<style scoped>\n",
       "    .dataframe tbody tr th:only-of-type {\n",
       "        vertical-align: middle;\n",
       "    }\n",
       "\n",
       "    .dataframe tbody tr th {\n",
       "        vertical-align: top;\n",
       "    }\n",
       "\n",
       "    .dataframe thead th {\n",
       "        text-align: right;\n",
       "    }\n",
       "</style>\n",
       "<table border=\"1\" class=\"dataframe\">\n",
       "  <thead>\n",
       "    <tr style=\"text-align: right;\">\n",
       "      <th></th>\n",
       "      <th>Version_A</th>\n",
       "      <th>Version_B</th>\n",
       "      <th>Version_C</th>\n",
       "      <th>Version_D</th>\n",
       "    </tr>\n",
       "  </thead>\n",
       "  <tbody>\n",
       "    <tr>\n",
       "      <th>Click</th>\n",
       "      <td>512</td>\n",
       "      <td>281</td>\n",
       "      <td>527</td>\n",
       "      <td>193</td>\n",
       "    </tr>\n",
       "    <tr>\n",
       "      <th>No-click</th>\n",
       "      <td>24814</td>\n",
       "      <td>24466</td>\n",
       "      <td>24349</td>\n",
       "      <td>25040</td>\n",
       "    </tr>\n",
       "  </tbody>\n",
       "</table>\n",
       "</div>"
      ],
      "text/plain": [
       "          Version_A  Version_B  Version_C  Version_D\n",
       "Click           512        281        527        193\n",
       "No-click      24814      24466      24349      25040"
      ]
     },
     "execution_count": 34,
     "metadata": {},
     "output_type": "execute_result"
    }
   ],
   "source": [
    "# Clicks and No-Clicks Table\n",
    "clicks = [eniac_a_CTRClicks, eniac_b_CTRClicks, eniac_c_CTRClicks, eniac_d_CTRClicks]\n",
    "noclicks = [eniac_a_CTRnon_Clicks, eniac_b_CTRnon_Clicks, eniac_c_CTRnon_Clicks, eniac_d_CTRnon_Clicks]\n",
    "\n",
    "observed_results = pd.DataFrame(data=[clicks, noclicks],\n",
    "                                columns=[\"Version_A\", \"Version_B\", \"Version_C\", \"Version_D\"],\n",
    "                                index=[\"Click\", \"No-click\"])\n",
    "print(\"Observed Results:\")\n",
    "observed_results"
   ]
  },
  {
   "cell_type": "markdown",
   "metadata": {},
   "source": [
    "##### 6.3. Chi-square test to check for statistical significance."
   ]
  },
  {
   "cell_type": "code",
   "execution_count": 43,
   "metadata": {},
   "outputs": [
    {
     "name": "stdout",
     "output_type": "stream",
     "text": [
      "Chi-square test statistic: 224.01877488058412\n",
      "P-value: 2.716121660786871e-48\n",
      "Reject the null hypothesis: There is a significant difference in CTR between the variants.\n"
     ]
    }
   ],
   "source": [
    "# Chi-square test, results\n",
    "chi2, p, dof, expected = chi2_contingency(observed_results)\n",
    "\n",
    "alpha = 0.05\n",
    "\n",
    "print(f\"Chi-square test statistic: {chi2}\")\n",
    "print(f\"P-value: {p}\")\n",
    "\n",
    "# statistical significance\n",
    "if p < 0.05:\n",
    "    print(\"Reject the null hypothesis: There is a significant difference in CTR between the variants.\")\n",
    "else:\n",
    "    print(\"Fail to reject the null hypothesis: No significant difference in CTR between the variants.\")\n"
   ]
  },
  {
   "cell_type": "markdown",
   "metadata": {},
   "source": [
    "##### 6.4. Version with Highest CTR"
   ]
  },
  {
   "cell_type": "code",
   "execution_count": 52,
   "metadata": {},
   "outputs": [
    {
     "name": "stdout",
     "output_type": "stream",
     "text": [
      "\n",
      "The winning version is 'White SEE DEALS' with a CTR of 2.12%\n"
     ]
    }
   ],
   "source": [
    "# Each version CTR\n",
    "ctr_a = (eniac_a_CTRClicks / eniac_a_CTRvisits) * 100\n",
    "ctr_b = (eniac_b_CTRClicks / eniac_b_CTRvisits) * 100\n",
    "ctr_c = (eniac_c_CTRClicks / eniac_c_CTRvisits) * 100\n",
    "ctr_d = (eniac_d_CTRClicks / eniac_d_CTRvisits) * 100\n",
    "\n",
    "# User Dictionary with CTR values\n",
    "ctr_dict = {\n",
    "    \"White SHOP NOW\": ctr_a,\n",
    "    \"Red SHOP NOW\": ctr_b,\n",
    "    \"White SEE DEALS\": ctr_c,\n",
    "    \"Red SEE DEALS\": ctr_d\n",
    "}\n",
    "winner = max(ctr_dict, key=ctr_dict.get)\n",
    "print(f\"\\nThe winning version is '{winner}' with a CTR of {ctr_dict[winner]:.2f}%\")"
   ]
  },
  {
   "cell_type": "markdown",
   "metadata": {},
   "source": [
    "##### 6.5. Metrics Plot"
   ]
  },
  {
   "cell_type": "code",
   "execution_count": 55,
   "metadata": {},
   "outputs": [
    {
     "data": {
      "image/png": "[encoded data removed]",
      "text/plain": [
       "<Figure size 1000x600 with 1 Axes>"
      ]
     },
     "metadata": {},
     "output_type": "display_data"
    },
    {
     "name": "stdout",
     "output_type": "stream",
     "text": [
      "The winning version is 'White SEE DEALS' with a CTR of 2.12%\n"
     ]
    }
   ],
   "source": [
    "# Create a DataFrame from the dictionary\n",
    "ctr_data = pd.DataFrame(list(ctr_dict.items()), columns=['Version', 'CTR'])\n",
    "\n",
    "# Plotting the CTR values using Seaborn\n",
    "plt.figure(figsize=(10, 6))\n",
    "sns.barplot(x='Version', y='CTR', data=ctr_data, palette='viridis')\n",
    "plt.title('Click-Through Rate (CTR) by Version')\n",
    "plt.xlabel('Version')\n",
    "plt.ylabel('CTR (%)')\n",
    "plt.xticks(rotation=45)\n",
    "plt.show()\n",
    "\n",
    "print(f\"The winning version is '{winner}' with a CTR of {ctr_dict[winner]:.2f}%\")"
   ]
  },
  {
   "cell_type": "markdown",
   "metadata": {},
   "source": [
    "### 7. Results Analysis\n",
    "#### Winning Version: “White SEE DEALS”\n",
    "CTR: 2.12%\n",
    "\n",
    "Significance: \"White SEE DEALS\" button is the most effective CTR option,\n",
    "Hence **recommended** for implementation on the website."
   ]
  }
 ],
 "metadata": {
  "kernelspec": {
   "display_name": "Python 3",
   "language": "python",
   "name": "python3"
  },
  "language_info": {
   "codemirror_mode": {
    "name": "ipython",
    "version": 3
   },
   "file_extension": ".py",
   "mimetype": "text/x-python",
   "name": "python",
   "nbconvert_exporter": "python",
   "pygments_lexer": "ipython3",
   "version": "3.13.0"
  }
 },
 "nbformat": 4,
 "nbformat_minor": 2
}
